{
 "cells": [
  {
   "cell_type": "code",
   "execution_count": 2,
   "metadata": {},
   "outputs": [
    {
     "name": "stdout",
     "output_type": "stream",
     "text": [
      "(-1, 3) Distance from home  =  4\n",
      "(-1, -1) Distance from home  =  2\n",
      "(1, -3) Distance from home  =  4\n",
      "(-2, 0) Distance from home  =  2\n",
      "(0, -4) Distance from home  =  4\n",
      "(0, 2) Distance from home  =  2\n",
      "(5, -1) Distance from home  =  6\n",
      "(0, -4) Distance from home  =  4\n",
      "(2, -4) Distance from home  =  6\n",
      "(2, 0) Distance from home  =  2\n",
      "(0, -2) Distance from home  =  2\n",
      "(-2, -4) Distance from home  =  6\n",
      "(-1, -1) Distance from home  =  2\n",
      "(2, 0) Distance from home  =  2\n",
      "(0, -4) Distance from home  =  4\n",
      "(0, -2) Distance from home  =  2\n",
      "(-1, 3) Distance from home  =  4\n",
      "(-2, 2) Distance from home  =  4\n",
      "(-1, 3) Distance from home  =  4\n",
      "(-1, 1) Distance from home  =  2\n",
      "(0, -2) Distance from home  =  2\n",
      "(-4, 2) Distance from home  =  6\n",
      "(3, 1) Distance from home  =  4\n",
      "(-2, 2) Distance from home  =  4\n",
      "(-3, 3) Distance from home  =  6\n"
     ]
    }
   ],
   "source": [
    "import random\n",
    "def random_walk(n): #return coordinates after 'n' block random walk\n",
    "    x = 0\n",
    "    y = 0\n",
    "    for i in range(n):\n",
    "        step = random.choice(['N' , 'S' , 'E' , 'W'])\n",
    "        if step == 'N':\n",
    "            y = y + 1\n",
    "        elif step == 'S':\n",
    "            y = y - 1\n",
    "        elif step == 'E':\n",
    "            x = x + 1\n",
    "        else:\n",
    "            x = x - 1\n",
    "    return (x,y)\n",
    "\n",
    "for i in range(25):\n",
    "    walk = random_walk(10)\n",
    "    print(walk, \"Distance from home  = \", abs(walk[0]) + abs(walk[1]))\n",
    "        "
   ]
  },
  {
   "cell_type": "code",
   "execution_count": 1,
   "metadata": {},
   "outputs": [
    {
     "name": "stdout",
     "output_type": "stream",
     "text": [
      "walk size =  1    / % of no transport =  100.0\n",
      "walk size =  2    / % of no transport =  100.0\n",
      "walk size =  3    / % of no transport =  100.0\n",
      "walk size =  4    / % of no transport =  100.0\n",
      "walk size =  5    / % of no transport =  88.265\n",
      "walk size =  6    / % of no transport =  93.75\n",
      "walk size =  7    / % of no transport =  76.625\n",
      "walk size =  8    / % of no transport =  86.565\n",
      "walk size =  9    / % of no transport =  67.05499999999999\n",
      "walk size =  10    / % of no transport =  79.125\n",
      "walk size =  11    / % of no transport =  59.8\n",
      "walk size =  12    / % of no transport =  73.125\n",
      "walk size =  13    / % of no transport =  54.04\n",
      "walk size =  14    / % of no transport =  67.01\n",
      "walk size =  15    / % of no transport =  49.370000000000005\n",
      "walk size =  16    / % of no transport =  61.94\n",
      "walk size =  17    / % of no transport =  45.015\n",
      "walk size =  18    / % of no transport =  58.385\n",
      "walk size =  19    / % of no transport =  41.315000000000005\n",
      "walk size =  20    / % of no transport =  54.17999999999999\n",
      "walk size =  21    / % of no transport =  38.245000000000005\n",
      "walk size =  22    / % of no transport =  51.075\n",
      "walk size =  23    / % of no transport =  35.615\n",
      "walk size =  24    / % of no transport =  48.449999999999996\n",
      "walk size =  25    / % of no transport =  33.125\n",
      "walk size =  26    / % of no transport =  44.875\n",
      "walk size =  27    / % of no transport =  31.04\n",
      "walk size =  28    / % of no transport =  42.63\n",
      "walk size =  29    / % of no transport =  29.925\n",
      "walk size =  30    / % of no transport =  40.445\n"
     ]
    }
   ],
   "source": [
    "import random\n",
    "\n",
    "def random_walk_2(n):\n",
    "    x, y = 0, 0\n",
    "    for i in range(n):\n",
    "        (dx, dy) = random.choice([(0,1), (0,-1), (1,0), (-1,0)])\n",
    "        x += dx\n",
    "        y += dy\n",
    "    return (x, y)\n",
    "\n",
    "\n",
    "\n",
    "number_of_walks = 20000\n",
    "\n",
    "for walk_length in range(1, 31):\n",
    "    no_transport = 0 # number of walks 4 of fewer blocks from home\n",
    "    for i in range(number_of_walks):\n",
    "        (x,y) = random_walk_2(walk_length)\n",
    "        distance = abs(x) + abs(y)\n",
    "        if distance <= 4:\n",
    "            no_transport += 1\n",
    "    no_transport_percentage = float(no_transport) / number_of_walks\n",
    "    print(\"walk size = \", walk_length, \"   / % of no transport = \", 100*no_transport_percentage)"
   ]
  },
  {
   "cell_type": "code",
   "execution_count": null,
   "metadata": {},
   "outputs": [],
   "source": []
  }
 ],
 "metadata": {
  "kernelspec": {
   "display_name": "Python 3",
   "language": "python",
   "name": "python3"
  },
  "language_info": {
   "codemirror_mode": {
    "name": "ipython",
    "version": 3
   },
   "file_extension": ".py",
   "mimetype": "text/x-python",
   "name": "python",
   "nbconvert_exporter": "python",
   "pygments_lexer": "ipython3",
   "version": "3.6.5"
  }
 },
 "nbformat": 4,
 "nbformat_minor": 2
}
